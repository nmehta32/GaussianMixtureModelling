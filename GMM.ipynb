{
  "nbformat": 4,
  "nbformat_minor": 0,
  "metadata": {
    "colab": {
      "name": "Untitled20.ipynb",
      "provenance": [],
      "collapsed_sections": [],
      "authorship_tag": "ABX9TyPZ3EPNjL5VcUf2oIQHs+JL",
      "include_colab_link": true
    },
    "kernelspec": {
      "name": "python3",
      "display_name": "Python 3"
    },
    "language_info": {
      "name": "python"
    }
  },
  "cells": [
    {
      "cell_type": "markdown",
      "metadata": {
        "id": "view-in-github",
        "colab_type": "text"
      },
      "source": [
        "<a href=\"https://colab.research.google.com/github/nmehta32/GaussianMixtureModelling/blob/main/GMM.ipynb\" target=\"_parent\"><img src=\"https://colab.research.google.com/assets/colab-badge.svg\" alt=\"Open In Colab\"/></a>"
      ]
    },
    {
      "cell_type": "code",
      "execution_count": 2,
      "metadata": {
        "colab": {
          "base_uri": "https://localhost:8080/"
        },
        "id": "Z-u2VGSvTBpA",
        "outputId": "f6ee1d4c-a75a-432c-ed37-f834ef56cd5d"
      },
      "outputs": [
        {
          "output_type": "stream",
          "name": "stdout",
          "text": [
            "mean vector class 1 [10.5, 5.5, 2.5]\n",
            "mean vector class 2 [3.5, 6.75, 11.75]\n"
          ]
        }
      ],
      "source": [
        "mat_1 = [[9, 4, 1],\n",
        "       [10, 6, 3],\n",
        "       [11, 5, 2],\n",
        "       [12, 7, 4]]\n",
        "mat_2 = [[2, 5, 10],\n",
        "       [4, 7, 11],\n",
        "       [3, 6, 12],\n",
        "       [5, 9, 14]]\n",
        "def MeanVec(mat):\n",
        "  n = 3\n",
        "  temp = [0,0,0]\n",
        "  mean_v = []\n",
        "\n",
        "  for it,i in enumerate(mat):\n",
        "    for it,j in enumerate(i):\n",
        "      temp[it]+=j/4\n",
        "\n",
        "  return temp\n",
        "mv1 = MeanVec(mat_1)\n",
        "mv2 = MeanVec(mat_2)\n",
        "print('mean vector class 1',MeanVec(mat_1))\n",
        "\n",
        "\n",
        "print('mean vector class 2',MeanVec(mat_2))\n"
      ]
    },
    {
      "cell_type": "code",
      "source": [
        "import numpy as np\n",
        "def covMat(mat,mv):\n",
        "  cov = []\n",
        "  a = []\n",
        "  for i in range(len(mat[0])):\n",
        "    for j in range(len(mat)):\n",
        "        a.append(mat[j][i] - mv[i])\n",
        "    cov.append(a)\n",
        "    a = []\n",
        "\n",
        "  cov = np.dot(cov, np.transpose(cov))\n",
        "  cov = cov/4\n",
        "  return cov\n",
        "cov1 = covMat(mat_1,mv1)\n",
        "cov2 = covMat(mat_2,mv2)\n",
        "print('COVARIANCE MATRIX FOR CLASS 1 \\n',covMat(mat_1,mv1))\n",
        "\n",
        "print('COVARIANCE MATRIX FOR CLASS 2 \\n',covMat(mat_2,mv2))"
      ],
      "metadata": {
        "colab": {
          "base_uri": "https://localhost:8080/"
        },
        "id": "u90x7rYSUups",
        "outputId": "903eb5f9-757a-4cca-af64-dae129b1f1d8"
      },
      "execution_count": 3,
      "outputs": [
        {
          "output_type": "stream",
          "name": "stdout",
          "text": [
            "COVARIANCE MATRIX FOR CLASS 1 \n",
            " [[1.25 1.   1.  ]\n",
            " [1.   1.25 1.25]\n",
            " [1.   1.25 1.25]]\n",
            "COVARIANCE MATRIX FOR CLASS 2 \n",
            " [[1.25   1.625  1.375 ]\n",
            " [1.625  2.1875 1.9375]\n",
            " [1.375  1.9375 2.1875]]\n"
          ]
        }
      ]
    },
    {
      "cell_type": "code",
      "source": [
        "## likelihood of observing data in a given class\n",
        "\n",
        "def likelihood(cov,mean,data):\n",
        "  det = np.linalg.det(cov)\n",
        "  if det == 0:\n",
        "    for i in range(len(cov)):\n",
        "      for j in range(len(cov[0])):\n",
        "        if i == j:\n",
        "          cov[i][j] += 0.05\n",
        "    det = np.linalg.det(cov)\n",
        "  c1 = np.sqrt(4*det*np.pi*np.pi)\n",
        "  s1 = np.subtract(np.transpose(data),np.transpose(mean))\n",
        "  exp = np.exp(-0.5 * np.dot(np.dot(np.subtract(np.transpose(data),np.transpose(mean)), np.subtract(data,mean)),np.transpose(cov)))\n",
        "  lh = (1/c1)*exp\n",
        "\n",
        "  return max(lh[0])\n",
        "\n",
        "data = [[5],[7],[12]]\n",
        "l1 = likelihood(cov1,mv1,data)\n",
        "l2 =  likelihood(cov2,mv2,data)\n",
        "l = [l1,l2]\n",
        "print('Likelyhood of class 1', likelihood(cov1,mv1,data))\n",
        "print('Likelyhood of class 2', likelihood(cov2,mv2,data))\n",
        "i = max(l1,l2)\n",
        "print(f'Class most likely for the given data is class {l.index(i)+1}')"
      ],
      "metadata": {
        "colab": {
          "base_uri": "https://localhost:8080/"
        },
        "id": "3Y_bEZyXsNxW",
        "outputId": "c55b295c-fb64-419b-b78d-103948a5e944"
      },
      "execution_count": 5,
      "outputs": [
        {
          "output_type": "stream",
          "name": "stdout",
          "text": [
            "Likelyhood of class 1 1.3830826735200478e-44\n",
            "Likelyhood of class 2 17023.48886243021\n",
            "Class most likely for the given data is class 2\n"
          ]
        }
      ]
    }
  ]
}